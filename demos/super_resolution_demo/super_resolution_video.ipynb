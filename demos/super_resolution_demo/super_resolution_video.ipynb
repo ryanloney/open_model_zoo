{
 "cells": [
  {
   "cell_type": "code",
   "execution_count": null,
   "id": "apparent-tokyo",
   "metadata": {},
   "outputs": [],
   "source": [
    "import youtube_dl\n",
    "import requests\n",
    "from __future__ import unicode_literals"
   ]
  },
  {
   "cell_type": "markdown",
   "id": "funky-botswana",
   "metadata": {},
   "source": [
    "### Download ffmpeg\n",
    "This demo requires ffmpeg to extract frames and create a new video that is enhanced by `single-image-super-resolution-1033` from the [Open Model Zoo](https://github.com/openvinotoolkit/open_model_zoo). Download and install for Windows, MacOS or Linux here: http://ffmpeg.org/download.html"
   ]
  },
  {
   "cell_type": "code",
   "execution_count": null,
   "id": "complete-alliance",
   "metadata": {},
   "outputs": [],
   "source": [
    "# Use youtube-dl to download the sample video\n",
    "ydl_opts = {'outtmpl': './original_1080p.mp4'}\n",
    "with youtube_dl.YoutubeDL(ydl_opts) as ydl:\n",
    "    ydl.download(['https://youtu.be/V8yS3WIkOrA'])"
   ]
  },
  {
   "cell_type": "code",
   "execution_count": 8,
   "id": "available-cambridge",
   "metadata": {},
   "outputs": [],
   "source": [
    "# Make a directory for the video frames\n",
    "!mkdir frames"
   ]
  },
  {
   "cell_type": "code",
   "execution_count": 9,
   "id": "generous-teacher",
   "metadata": {},
   "outputs": [
    {
     "name": "stdout",
     "output_type": "stream",
     "text": [
      "ffmpeg version 4.3.2 Copyright (c) 2000-2021 the FFmpeg developers\n",
      "  built with Apple clang version 12.0.0 (clang-1200.0.32.29)\n",
      "  configuration: --prefix=/usr/local/Cellar/ffmpeg/4.3.2 --enable-shared --enable-pthreads --enable-version3 --enable-avresample --cc=clang --host-cflags= --host-ldflags= --enable-ffplay --enable-gnutls --enable-gpl --enable-libaom --enable-libbluray --enable-libdav1d --enable-libmp3lame --enable-libopus --enable-librav1e --enable-librubberband --enable-libsnappy --enable-libsrt --enable-libtesseract --enable-libtheora --enable-libvidstab --enable-libvorbis --enable-libvpx --enable-libwebp --enable-libx264 --enable-libx265 --enable-libxml2 --enable-libxvid --enable-lzma --enable-libfontconfig --enable-libfreetype --enable-frei0r --enable-libass --enable-libopencore-amrnb --enable-libopencore-amrwb --enable-libopenjpeg --enable-librtmp --enable-libspeex --enable-libsoxr --enable-libzmq --enable-libzimg --disable-libjack --disable-indev=jack --enable-videotoolbox\n",
      "  libavutil      56. 51.100 / 56. 51.100\n",
      "  libavcodec     58. 91.100 / 58. 91.100\n",
      "  libavformat    58. 45.100 / 58. 45.100\n",
      "  libavdevice    58. 10.100 / 58. 10.100\n",
      "  libavfilter     7. 85.100 /  7. 85.100\n",
      "  libavresample   4.  0.  0 /  4.  0.  0\n",
      "  libswscale      5.  7.100 /  5.  7.100\n",
      "  libswresample   3.  7.100 /  3.  7.100\n",
      "  libpostproc    55.  7.100 / 55.  7.100\n",
      "Input #0, mov,mp4,m4a,3gp,3g2,mj2, from 'original_1080p.mp4':\n",
      "  Metadata:\n",
      "    major_brand     : isom\n",
      "    minor_version   : 512\n",
      "    compatible_brands: isomiso2avc1mp41\n",
      "    encoder         : Lavf58.45.100\n",
      "  Duration: 00:00:41.08, start: 0.000000, bitrate: 1491 kb/s\n",
      "    Stream #0:0(und): Video: h264 (High) (avc1 / 0x31637661), yuv420p(tv, bt709), 1920x1080 [SAR 1:1 DAR 16:9], 1357 kb/s, 29.97 fps, 29.97 tbr, 30k tbn, 59.94 tbc (default)\n",
      "    Metadata:\n",
      "      handler_name    : ISO Media file produced by Google Inc.\n",
      "    Stream #0:1(eng): Audio: aac (LC) (mp4a / 0x6134706D), 44100 Hz, stereo, fltp, 127 kb/s (default)\n",
      "    Metadata:\n",
      "      handler_name    : ISO Media file produced by Google Inc.\n",
      "Stream mapping:\n",
      "  Stream #0:0 -> #0:0 (h264 (native) -> png (native))\n",
      "Press [q] to stop, [?] for help\n",
      "Output #0, image2, to 'frames/sr_%04d.png':\n",
      "  Metadata:\n",
      "    major_brand     : isom\n",
      "    minor_version   : 512\n",
      "    compatible_brands: isomiso2avc1mp41\n",
      "    encoder         : Lavf58.45.100\n",
      "    Stream #0:0(und): Video: png, rgb24, 640x360 [SAR 1:1 DAR 16:9], q=2-31, 200 kb/s, 30 fps, 30 tbn, 30 tbc (default)\n",
      "    Metadata:\n",
      "      handler_name    : ISO Media file produced by Google Inc.\n",
      "      encoder         : Lavc58.91.100 png\n",
      "frame= 1230 fps=128 q=-0.0 Lsize=N/A time=00:00:41.00 bitrate=N/A speed=4.28x    \n",
      "video:242566kB audio:0kB subtitle:0kB other streams:0kB global headers:0kB muxing overhead: unknown\n"
     ]
    }
   ],
   "source": [
    "# Extract 640x360 frames from the original video file\n",
    "!ffmpeg -i original_1080p.mp4 -vf \"scale=640:360,fps=30\" frames/sr_%04d.png"
   ]
  },
  {
   "cell_type": "code",
   "execution_count": 10,
   "id": "favorite-thanks",
   "metadata": {},
   "outputs": [],
   "source": [
    "### Placeholder for C++ demo app compiling instructions\n",
    "#\n",
    "#\n",
    "###\n",
    "# !export DYLD_LIBRARY_PATH=/opt/intel/openvino_2021/deployment_tools/ngraph/lib/"
   ]
  },
  {
   "cell_type": "code",
   "execution_count": 23,
   "id": "clean-favorite",
   "metadata": {},
   "outputs": [],
   "source": [
    "def download_model(url):\n",
    "    local_filename = url.split('/')[-1]\n",
    "\n",
    "    with requests.get(url, stream=True) as r:\n",
    "        r.raise_for_status()\n",
    "        with open(local_filename, 'wb') as f:\n",
    "            for chunk in r.iter_content(chunk_size=8192): \n",
    "                # If you have chunk encoded response uncomment if\n",
    "                # and set chunk_size parameter to None.\n",
    "                #if chunk: \n",
    "                f.write(chunk)\n",
    "    return local_filename"
   ]
  },
  {
   "cell_type": "code",
   "execution_count": 25,
   "id": "injured-mattress",
   "metadata": {},
   "outputs": [
    {
     "data": {
      "text/plain": [
       "'single-image-super-resolution-1033.bin'"
      ]
     },
     "execution_count": 25,
     "metadata": {},
     "output_type": "execute_result"
    }
   ],
   "source": [
    "# Download the models \n",
    "url = \"https://storage.openvinotoolkit.org/repositories/open_model_zoo/2021.3/models_bin/1/single-image-super-resolution-1033/FP16-INT8/\"\n",
    "xml_file = 'single-image-super-resolution-1033.xml'\n",
    "bin_file = 'single-image-super-resolution-1033.bin'\n",
    "\n",
    "download_model(url + xml_file)\n",
    "download_model(url + bin_file)"
   ]
  },
  {
   "cell_type": "code",
   "execution_count": null,
   "id": "owned-adaptation",
   "metadata": {},
   "outputs": [],
   "source": [
    "# Loop through each frame and enhance with super resolution model (not efficient, will find a better way to do this)\n",
    "# This requires the compiled Linux/Mac or Windows C++ binary \"super_resolution_demo\" from OMZ demos\n",
    "!{for FILE in frames/*; do ./super_resolution_demo -i $FILE -m ./single-image-super-resolution-1033.xml; done} &> /dev/null"
   ]
  },
  {
   "cell_type": "code",
   "execution_count": null,
   "id": "dietary-ribbon",
   "metadata": {},
   "outputs": [],
   "source": []
  },
  {
   "cell_type": "code",
   "execution_count": 16,
   "id": "considered-faith",
   "metadata": {},
   "outputs": [
    {
     "name": "stdout",
     "output_type": "stream",
     "text": [
      "ffmpeg version 4.3.2 Copyright (c) 2000-2021 the FFmpeg developers\n",
      "  built with Apple clang version 12.0.0 (clang-1200.0.32.29)\n",
      "  configuration: --prefix=/usr/local/Cellar/ffmpeg/4.3.2 --enable-shared --enable-pthreads --enable-version3 --enable-avresample --cc=clang --host-cflags= --host-ldflags= --enable-ffplay --enable-gnutls --enable-gpl --enable-libaom --enable-libbluray --enable-libdav1d --enable-libmp3lame --enable-libopus --enable-librav1e --enable-librubberband --enable-libsnappy --enable-libsrt --enable-libtesseract --enable-libtheora --enable-libvidstab --enable-libvorbis --enable-libvpx --enable-libwebp --enable-libx264 --enable-libx265 --enable-libxml2 --enable-libxvid --enable-lzma --enable-libfontconfig --enable-libfreetype --enable-frei0r --enable-libass --enable-libopencore-amrnb --enable-libopencore-amrwb --enable-libopenjpeg --enable-librtmp --enable-libspeex --enable-libsoxr --enable-libzmq --enable-libzimg --disable-libjack --disable-indev=jack --enable-videotoolbox\n",
      "  libavutil      56. 51.100 / 56. 51.100\n",
      "  libavcodec     58. 91.100 / 58. 91.100\n",
      "  libavformat    58. 45.100 / 58. 45.100\n",
      "  libavdevice    58. 10.100 / 58. 10.100\n",
      "  libavfilter     7. 85.100 /  7. 85.100\n",
      "  libavresample   4.  0.  0 /  4.  0.  0\n",
      "  libswscale      5.  7.100 /  5.  7.100\n",
      "  libswresample   3.  7.100 /  3.  7.100\n",
      "  libpostproc    55.  7.100 / 55.  7.100\n",
      "Input #0, image2, from 'frames/c01_%04d.bmp.png':\n",
      "  Duration: 00:00:41.00, start: 0.000000, bitrate: N/A\n",
      "    Stream #0:0: Video: png, rgb24(pc), 1920x1080, 30 fps, 30 tbr, 30 tbn, 30 tbc\n",
      "Stream mapping:\n",
      "  Stream #0:0 -> #0:0 (png (native) -> h264 (libx264))\n",
      "Press [q] to stop, [?] for help\n",
      "\u001b[1;36m[libx264 @ 0x7fbf3000d000] \u001b[0musing cpu capabilities: MMX2 SSE2Fast SSSE3 SSE4.2 AVX FMA3 BMI2 AVX2\n",
      "\u001b[1;36m[libx264 @ 0x7fbf3000d000] \u001b[0mprofile High, level 4.0, 4:2:0, 8-bit\n",
      "\u001b[1;36m[libx264 @ 0x7fbf3000d000] \u001b[0m264 - core 161 r3048 b86ae3c - H.264/MPEG-4 AVC codec - Copyleft 2003-2021 - http://www.videolan.org/x264.html - options: cabac=1 ref=3 deblock=1:0:0 analyse=0x3:0x113 me=hex subme=7 psy=1 psy_rd=1.00:0.00 mixed_ref=1 me_range=16 chroma_me=1 trellis=1 8x8dct=1 cqm=0 deadzone=21,11 fast_pskip=1 chroma_qp_offset=-2 threads=12 lookahead_threads=2 sliced_threads=0 nr=0 decimate=1 interlaced=0 bluray_compat=0 constrained_intra=0 bframes=3 b_pyramid=2 b_adapt=1 b_bias=0 direct=1 weightb=1 open_gop=0 weightp=2 keyint=250 keyint_min=25 scenecut=40 intra_refresh=0 rc_lookahead=40 rc=crf mbtree=1 crf=23.0 qcomp=0.60 qpmin=0 qpmax=69 qpstep=4 ip_ratio=1.40 aq=1:1.00\n",
      "Output #0, mp4, to 'enhanced_1080.mp4':\n",
      "  Metadata:\n",
      "    encoder         : Lavf58.45.100\n",
      "    Stream #0:0: Video: h264 (libx264) (avc1 / 0x31637661), yuv420p, 1920x1080, q=-1--1, 30 fps, 15360 tbn, 30 tbc\n",
      "    Metadata:\n",
      "      encoder         : Lavc58.91.100 libx264\n",
      "    Side data:\n",
      "      cpb: bitrate max/min/avg: 0/0/0 buffer size: 0 vbv_delay: N/A\n",
      "frame= 1230 fps= 53 q=-1.0 Lsize=    6642kB time=00:00:40.90 bitrate=1330.4kbits/s speed=1.75x    \n",
      "video:6627kB audio:0kB subtitle:0kB other streams:0kB global headers:0kB muxing overhead: 0.230663%\n",
      "\u001b[1;36m[libx264 @ 0x7fbf3000d000] \u001b[0mframe I:6     Avg QP:15.45  size: 83077\n",
      "\u001b[1;36m[libx264 @ 0x7fbf3000d000] \u001b[0mframe P:312   Avg QP:20.05  size: 11717\n",
      "\u001b[1;36m[libx264 @ 0x7fbf3000d000] \u001b[0mframe B:912   Avg QP:26.99  size:  2885\n",
      "\u001b[1;36m[libx264 @ 0x7fbf3000d000] \u001b[0mconsecutive B-frames:  1.1%  0.2%  0.2% 98.5%\n",
      "\u001b[1;36m[libx264 @ 0x7fbf3000d000] \u001b[0mmb I  I16..4: 18.7% 61.1% 20.2%\n",
      "\u001b[1;36m[libx264 @ 0x7fbf3000d000] \u001b[0mmb P  I16..4:  1.6%  3.5%  0.4%  P16..4: 17.0%  4.2%  2.2%  0.0%  0.0%    skip:71.1%\n",
      "\u001b[1;36m[libx264 @ 0x7fbf3000d000] \u001b[0mmb B  I16..4:  0.1%  0.2%  0.0%  B16..8: 14.4%  0.8%  0.1%  direct: 0.3%  skip:84.0%  L0:42.5% L1:55.5% BI: 2.1%\n",
      "\u001b[1;36m[libx264 @ 0x7fbf3000d000] \u001b[0m8x8 transform intra:63.2% inter:81.0%\n",
      "\u001b[1;36m[libx264 @ 0x7fbf3000d000] \u001b[0mcoded y,uvDC,uvAC intra: 36.2% 33.4% 10.0% inter: 3.0% 2.6% 0.0%\n",
      "\u001b[1;36m[libx264 @ 0x7fbf3000d000] \u001b[0mi16 v,h,dc,p: 21% 51%  7% 21%\n",
      "\u001b[1;36m[libx264 @ 0x7fbf3000d000] \u001b[0mi8 v,h,dc,ddl,ddr,vr,hd,vl,hu: 27% 24% 23%  3%  5%  5%  5%  4%  4%\n",
      "\u001b[1;36m[libx264 @ 0x7fbf3000d000] \u001b[0mi4 v,h,dc,ddl,ddr,vr,hd,vl,hu: 30% 33% 13%  4%  5%  4%  4%  3%  3%\n",
      "\u001b[1;36m[libx264 @ 0x7fbf3000d000] \u001b[0mi8c dc,h,v,p: 57% 23% 17%  3%\n",
      "\u001b[1;36m[libx264 @ 0x7fbf3000d000] \u001b[0mWeighted P-Frames: Y:1.6% UV:1.6%\n",
      "\u001b[1;36m[libx264 @ 0x7fbf3000d000] \u001b[0mref P L0: 63.1%  9.1% 19.8%  8.0%  0.0%\n",
      "\u001b[1;36m[libx264 @ 0x7fbf3000d000] \u001b[0mref B L0: 84.2% 12.9%  2.8%\n",
      "\u001b[1;36m[libx264 @ 0x7fbf3000d000] \u001b[0mref B L1: 93.7%  6.3%\n",
      "\u001b[1;36m[libx264 @ 0x7fbf3000d000] \u001b[0mkb/s:1323.98\n"
     ]
    }
   ],
   "source": [
    "# Create a new video with the frames enhanced by single-image-super-resolution-1033\n",
    "!ffmpeg -framerate 30 -i frames/sr_%04d.png.png -vcodec libx264 -s 1920x1080 -pix_fmt yuv420p enhanced_1080.mp4"
   ]
  },
  {
   "cell_type": "code",
   "execution_count": null,
   "id": "handled-bibliography",
   "metadata": {},
   "outputs": [],
   "source": []
  },
  {
   "cell_type": "code",
   "execution_count": null,
   "id": "known-hotel",
   "metadata": {},
   "outputs": [],
   "source": []
  }
 ],
 "metadata": {
  "kernelspec": {
   "display_name": "Python 3",
   "language": "python",
   "name": "python3"
  },
  "language_info": {
   "codemirror_mode": {
    "name": "ipython",
    "version": 3
   },
   "file_extension": ".py",
   "mimetype": "text/x-python",
   "name": "python",
   "nbconvert_exporter": "python",
   "pygments_lexer": "ipython3",
   "version": "3.7.9"
  }
 },
 "nbformat": 4,
 "nbformat_minor": 5
}
