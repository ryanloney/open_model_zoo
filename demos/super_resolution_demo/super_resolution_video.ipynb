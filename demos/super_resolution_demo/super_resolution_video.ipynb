{
 "cells": [
  {
   "cell_type": "code",
   "execution_count": null,
   "id": "pointed-sister",
   "metadata": {},
   "outputs": [],
   "source": [
    "import youtube_dl\n",
    "import requests\n",
    "from __future__ import unicode_literals"
   ]
  },
  {
   "cell_type": "markdown",
   "id": "vulnerable-supervisor",
   "metadata": {},
   "source": [
    "### Download ffmpeg\n",
    "This demo requires ffmpeg to extract frames and create a new video that is enhanced by `single-image-super-resolution-1033` from the [Open Model Zoo](https://github.com/openvinotoolkit/open_model_zoo). Download and install for Windows, MacOS or Linux here: http://ffmpeg.org/download.html"
   ]
  },
  {
   "cell_type": "code",
   "execution_count": null,
   "id": "varying-field",
   "metadata": {},
   "outputs": [],
   "source": [
    "# Use youtube-dl to download the sample video\n",
    "ydl_opts = {'outtmpl': './original_1080p.mp4'}\n",
    "with youtube_dl.YoutubeDL(ydl_opts) as ydl:\n",
    "    ydl.download(['https://youtu.be/V8yS3WIkOrA'])"
   ]
  },
  {
   "cell_type": "code",
   "execution_count": null,
   "id": "verified-jumping",
   "metadata": {},
   "outputs": [],
   "source": [
    "# Make a directory for the video frames\n",
    "!mkdir frames"
   ]
  },
  {
   "cell_type": "code",
   "execution_count": null,
   "id": "earlier-cannon",
   "metadata": {},
   "outputs": [],
   "source": [
    "# Extract 640x360 frames from the original video file\n",
    "!ffmpeg -i original_1080p.mp4 -vf \"scale=640:360,fps=30\" frames/sr_%04d.png"
   ]
  },
  {
   "cell_type": "code",
   "execution_count": null,
   "id": "colonial-estonia",
   "metadata": {},
   "outputs": [],
   "source": [
    "### Placeholder for C++ demo app compiling instructions\n",
    "###\n",
    "### !export DYLD_LIBRARY_PATH=/opt/intel/openvino_2021/deployment_tools/ngraph/lib/"
   ]
  },
  {
   "cell_type": "code",
   "execution_count": null,
   "id": "hollow-programming",
   "metadata": {},
   "outputs": [],
   "source": [
    "def download_model(url):\n",
    "    local_filename = url.split('/')[-1]\n",
    "\n",
    "    with requests.get(url, stream=True) as r:\n",
    "        r.raise_for_status()\n",
    "        with open(local_filename, 'wb') as f:\n",
    "            for chunk in r.iter_content(chunk_size=8192): \n",
    "                # If you have chunk encoded response uncomment if\n",
    "                # and set chunk_size parameter to None.\n",
    "                #if chunk: \n",
    "                f.write(chunk)\n",
    "    return local_filename"
   ]
  },
  {
   "cell_type": "code",
   "execution_count": null,
   "id": "atomic-farmer",
   "metadata": {},
   "outputs": [],
   "source": [
    "# Download the models \n",
    "url = \"https://storage.openvinotoolkit.org/repositories/open_model_zoo/2021.3/models_bin/1/single-image-super-resolution-1033/FP16-INT8/\"\n",
    "xml_file = 'single-image-super-resolution-1033.xml'\n",
    "bin_file = 'single-image-super-resolution-1033.bin'\n",
    "\n",
    "download_model(url + xml_file)\n",
    "download_model(url + bin_file)"
   ]
  },
  {
   "cell_type": "code",
   "execution_count": null,
   "id": "humanitarian-fight",
   "metadata": {},
   "outputs": [],
   "source": [
    "# Loop through each frame and enhance with super resolution model (not efficient, will find a better way to do this)\n",
    "# This requires the compiled Linux/Mac or Windows C++ binary \"super_resolution_demo\" from OMZ demos\n",
    "!{for FILE in frames/*; do ./super_resolution_demo -i $FILE -m ./single-image-super-resolution-1033.xml; done} &> /dev/null"
   ]
  },
  {
   "cell_type": "code",
   "execution_count": null,
   "id": "diagnostic-graph",
   "metadata": {},
   "outputs": [],
   "source": [
    "# Create a new video with the frames enhanced by single-image-super-resolution-1033\n",
    "!ffmpeg -framerate 30 -i frames/sr_%04d.png.png -vcodec libx264 -s 1920x1080 -pix_fmt yuv420p enhanced_1080.mp4"
   ]
  }
 ],
 "metadata": {
  "kernelspec": {
   "display_name": "Python 3",
   "language": "python",
   "name": "python3"
  },
  "language_info": {
   "codemirror_mode": {
    "name": "ipython",
    "version": 3
   },
   "file_extension": ".py",
   "mimetype": "text/x-python",
   "name": "python",
   "nbconvert_exporter": "python",
   "pygments_lexer": "ipython3",
   "version": "3.7.9"
  }
 },
 "nbformat": 4,
 "nbformat_minor": 5
}
